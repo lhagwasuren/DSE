{
 "cells": [
  {
   "cell_type": "markdown",
   "id": "94fe5414-5f90-454d-94e6-fbec9a2c8afc",
   "metadata": {
    "tags": []
   },
   "source": [
    "# Data Science Tools and Ecosystem"
   ]
  },
  {
   "cell_type": "markdown",
   "id": "30f543c5-093c-4b06-9385-badc8d97de12",
   "metadata": {
    "tags": []
   },
   "source": [
    "In this notebook, Data Science Tools and Ecosystem are summarized."
   ]
  },
  {
   "cell_type": "markdown",
   "id": "545dc608-f9a1-4261-9196-5fa23a6e969d",
   "metadata": {},
   "source": [
    "**Objectives:**\n",
    "- Python\n",
    "- R\n",
    "- Julia\n",
    "- Scala\n",
    "- C++"
   ]
  },
  {
   "cell_type": "markdown",
   "id": "2a4e8854-5077-4451-b852-94a3054225df",
   "metadata": {},
   "source": [
    "Some of the popular languages that Data Scientists use are:\n",
    "\n",
    "1. Python\n",
    "2. R\n",
    "3. Julia"
   ]
  },
  {
   "cell_type": "markdown",
   "id": "6be17958-7893-4be7-9876-8a9125550f8a",
   "metadata": {
    "tags": []
   },
   "source": [
    "Some of the commonly used libraries used by Data Scientists include:\n",
    "\n",
    "1. numpy\n",
    "2. pandas\n",
    "3. matplitlib\n",
    "4. ggplot2\n"
   ]
  },
  {
   "cell_type": "markdown",
   "id": "01df2364-ec35-4994-8324-a7040face59c",
   "metadata": {
    "tags": []
   },
   "source": [
    "| Data Science Tools |\n",
    "|----------|\n",
    "| Jupyter notebook    |\n",
    "| Jupyter lab    |\n",
    "| Jupyter lite    |"
   ]
  },
  {
   "cell_type": "markdown",
   "id": "b4b7a428-7921-49a7-b9be-6c00af0be14f",
   "metadata": {},
   "source": [
    "### Below are a few examples of evaluating arithmetic expressions in Python"
   ]
  },
  {
   "cell_type": "code",
   "execution_count": 9,
   "id": "292b8c19-ca75-4fc5-99bf-4a68d938c57c",
   "metadata": {
    "tags": []
   },
   "outputs": [
    {
     "data": {
      "text/plain": [
       "17"
      ]
     },
     "execution_count": 9,
     "metadata": {},
     "output_type": "execute_result"
    }
   ],
   "source": [
    "# This a simple arithmetic expression to mutiply then add integers\n",
    "(3*4)+5"
   ]
  },
  {
   "cell_type": "code",
   "execution_count": 8,
   "id": "da94bac9-59f9-4abc-95e9-1a7138318c52",
   "metadata": {
    "tags": []
   },
   "outputs": [
    {
     "data": {
      "text/plain": [
       "3.33"
      ]
     },
     "execution_count": 8,
     "metadata": {},
     "output_type": "execute_result"
    }
   ],
   "source": [
    "# This will convert 200 minutes to hours by diving by 60\n",
    "round(200/60,2)"
   ]
  },
  {
   "cell_type": "markdown",
   "id": "fa2eed8e-17dc-4bda-a923-e11b5357b349",
   "metadata": {},
   "source": [
    "## Author\n",
    "Lkhagvasuren Otgonbayar"
   ]
  }
 ],
 "metadata": {
  "kernelspec": {
   "display_name": "Python",
   "language": "python",
   "name": "conda-env-python-py"
  },
  "language_info": {
   "codemirror_mode": {
    "name": "ipython",
    "version": 3
   },
   "file_extension": ".py",
   "mimetype": "text/x-python",
   "name": "python",
   "nbconvert_exporter": "python",
   "pygments_lexer": "ipython3",
   "version": "3.7.12"
  }
 },
 "nbformat": 4,
 "nbformat_minor": 5
}
